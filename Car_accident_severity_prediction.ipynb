{
  "nbformat": 4,
  "nbformat_minor": 0,
  "metadata": {
    "colab": {
      "name": "Patrick_Schneider_Notebook_McKinsey.ipynb",
      "provenance": [],
      "collapsed_sections": []
    },
    "kernelspec": {
      "name": "python3",
      "display_name": "Python 3"
    }
  },
  "cells": [
    {
      "cell_type": "code",
      "metadata": {
        "id": "K4I6Rc-vqTvj",
        "colab_type": "code",
        "colab": {
          "base_uri": "https://localhost:8080/",
          "height": 71
        },
        "outputId": "cf34abc8-998c-484a-e3a2-62ed82f4f67a"
      },
      "source": [
        "#imports\n",
        "import matplotlib.pyplot as plt \n",
        "from numpy import errstate,isneginf,array\n",
        "from pydotplus import graph_from_dot_data\n",
        "from IPython.display import Image  \n",
        "import seaborn as sns\n",
        "from IPython.display import HTML, display\n",
        "import tabulate\n",
        "import numpy as np\n",
        "import pandas as pd\n",
        "from imblearn import under_sampling, over_sampling\n",
        "from imblearn.over_sampling import SMOTE\n",
        "from imblearn.under_sampling import RandomUnderSampler\n",
        "from sklearn.tree import DecisionTreeClassifier \n",
        "from sklearn.tree import export_graphviz\n",
        "from sklearn.ensemble import RandomForestRegressor\n",
        "import pandas as pd\n",
        "from matplotlib import pyplot as plt\n",
        "from sklearn.preprocessing import LabelEncoder\n",
        "from sklearn.model_selection import train_test_split\n",
        "from sklearn.linear_model import LogisticRegression\n",
        "from sklearn.metrics import accuracy_score\n",
        "from sklearn.metrics import classification_report\n",
        "from sklearn.tree import DecisionTreeClassifier\n",
        "from sklearn.ensemble import RandomForestClassifier\n",
        "from sklearn.svm import SVC, LinearSVC\n",
        "from sklearn.metrics import log_loss\n",
        "from sklearn import datasets, linear_model\n",
        "from sklearn.model_selection import train_test_split\n",
        "from sklearn.model_selection import RandomizedSearchCV\n",
        "\n",
        "load_local=False\n",
        "#load_local=True\n",
        "downsample=False"
      ],
      "execution_count": 1,
      "outputs": [
        {
          "output_type": "stream",
          "text": [
            "/usr/local/lib/python3.6/dist-packages/sklearn/externals/six.py:31: DeprecationWarning: The module is deprecated in version 0.21 and will be removed in version 0.23 since we've dropped support for Python 2.7. Please rely on the official version of six (https://pypi.org/project/six/).\n",
            "  \"(https://pypi.org/project/six/).\", DeprecationWarning)\n"
          ],
          "name": "stderr"
        }
      ]
    },
    {
      "cell_type": "markdown",
      "metadata": {
        "id": "K71-NKgXrm26",
        "colab_type": "text"
      },
      "source": [
        "## loading data from google drive. At the end of this section is the loading for local execution"
      ]
    },
    {
      "cell_type": "code",
      "metadata": {
        "id": "c_gK266iqbuS",
        "colab_type": "code",
        "outputId": "bf9c5d41-8d96-4ccb-84ca-b617345bd7e9",
        "colab": {
          "base_uri": "https://localhost:8080/",
          "height": 68
        }
      },
      "source": [
        "\n",
        "if(load_local==False):\n",
        "  #load data from google drive\n",
        "  !pip install -U -q PyDrive\n",
        "  from pydrive.auth import GoogleAuth\n",
        "  from pydrive.drive import GoogleDrive\n",
        "  from google.colab import auth\n",
        "  from oauth2client.client import GoogleCredentials\n",
        "  from google.colab import drive\n",
        "  # Authenticate and create the PyDrive client.\n",
        "  auth.authenticate_user()\n",
        "  gauth = GoogleAuth()\n",
        "  gauth.credentials = GoogleCredentials.get_application_default()\n",
        "  drive = GoogleDrive(gauth)\n",
        "\n",
        "\n",
        "  link = 'https://drive.google.com/open?id=1sAWX8yc9LUALOdiEFNhTDu6FjMDVOoKQ' # The shareable link\n",
        "  fluff, id = link.split('=')\n",
        "  print (id) # Verify that you have everything after '='\n",
        "  downloaded = drive.CreateFile({'id':id}) \n",
        "  downloaded.GetContentFile('accidents.csv')  \n",
        "  train = pd.read_csv('accidents.csv')\n",
        "  # Dataset is now stored in a Pandas Dataframe\n",
        "\n",
        "\n",
        "  link2 = 'https://drive.google.com/open?id=1Q680aDtN8P0o32MgIa1Yq3WN4cK8jHgi' # The shareable link\n",
        "  fluff2, id2 = link2.split('=')\n",
        "  print (id2) # Verify that you have everything after '='\n",
        "  downloaded = drive.CreateFile({'id':id2}) \n",
        "  downloaded.GetContentFile('vehicles.csv')  \n",
        "  vehicle_init = pd.read_csv('vehicles.csv')\n",
        "  # Dataset is now stored in a Pandas Dataframe\n",
        "\n",
        "  link3 = 'https://drive.google.com/open?id=1EiA6CocegLyXA5ihjlvnGpFCYmj4AqGz' # The shareable link\n",
        "  fluff3, id3 = link3.split('=')\n",
        "  print (id3) # Verify that you have everything after '='\n",
        "  downloaded = drive.CreateFile({'id':id3}) \n",
        "  downloaded.GetContentFile('test.csv')  \n",
        "  test = pd.read_csv('test.csv')\n",
        "  # Dataset is now stored in a Pandas Dataframe\n",
        "else:\n",
        "  train = pd.read_csv('accidents.csv')\n",
        "  test = pd.read_csv('test.csv')\n",
        "  vehicles_init = pd.read_csv('vehicles.csv')  "
      ],
      "execution_count": 2,
      "outputs": [
        {
          "output_type": "stream",
          "text": [
            "1sAWX8yc9LUALOdiEFNhTDu6FjMDVOoKQ\n",
            "1Q680aDtN8P0o32MgIa1Yq3WN4cK8jHgi\n",
            "1EiA6CocegLyXA5ihjlvnGpFCYmj4AqGz\n"
          ],
          "name": "stdout"
        }
      ]
    },
    {
      "cell_type": "code",
      "metadata": {
        "id": "cJA8GOS8qy1L",
        "colab_type": "code",
        "colab": {}
      },
      "source": [
        "#create target variable for the test set\n",
        "test[\"target\"]=-1"
      ],
      "execution_count": 0,
      "outputs": []
    },
    {
      "cell_type": "markdown",
      "metadata": {
        "id": "dnx9lGmcrhl0",
        "colab_type": "text"
      },
      "source": [
        "## FE: Calculate district risk factor"
      ]
    },
    {
      "cell_type": "code",
      "metadata": {
        "id": "x2rZUa_c0kIu",
        "colab_type": "code",
        "colab": {}
      },
      "source": [
        "#calculate district risk factor\n",
        "##total counts district \n",
        "total_district_count=train[\"local_authority_district\"].value_counts()\n",
        "df_o = pd.DataFrame()\n",
        "df_o[\"value\"]=total_district_count\n",
        "df_o['name'] = total_district_count.index\n",
        "##severe counts in district\n",
        "positive_district=train.local_authority_district.loc[train.target==1]\n",
        "severe_district_count=positive_district.value_counts()\n",
        "df_pos = pd.DataFrame()\n",
        "df_pos[\"value\"]=severe_district_count\n",
        "df_pos['name'] = severe_district_count.index\n",
        "##calculate risk factor = severe/total\n",
        "risk_district_table = pd.DataFrame()\n",
        "for district in df_pos['name']:\n",
        "    total=df_o[\"value\"].loc[df_o[\"name\"] == district][0]\n",
        "    sev=df_pos[\"value\"].loc[df_pos[\"name\"] == district][0]\n",
        "    risk=sev/total\n",
        "    risk_district_table = risk_district_table.append({'district': district, 'severe': sev, 'total': total, 'risk_factor': risk}, ignore_index=True)\n",
        "#replace local_authority_district in train and test set with  risk factor   \n",
        "train.local_authority_district=train.local_authority_district.replace(dict(zip(risk_district_table.district, risk_district_table.risk_factor)))\n",
        "test.local_authority_district=test.local_authority_district.replace(dict(zip(risk_district_table.district, risk_district_table.risk_factor)))"
      ],
      "execution_count": 0,
      "outputs": []
    },
    {
      "cell_type": "code",
      "metadata": {
        "id": "EGedW1B_MGhh",
        "colab_type": "code",
        "outputId": "2e3ca91b-b428-404d-dd14-0a0703583125",
        "colab": {
          "base_uri": "https://localhost:8080/",
          "height": 204
        }
      },
      "source": [
        "risk_district_table.head()"
      ],
      "execution_count": 5,
      "outputs": [
        {
          "output_type": "execute_result",
          "data": {
            "text/html": [
              "<div>\n",
              "<style scoped>\n",
              "    .dataframe tbody tr th:only-of-type {\n",
              "        vertical-align: middle;\n",
              "    }\n",
              "\n",
              "    .dataframe tbody tr th {\n",
              "        vertical-align: top;\n",
              "    }\n",
              "\n",
              "    .dataframe thead th {\n",
              "        text-align: right;\n",
              "    }\n",
              "</style>\n",
              "<table border=\"1\" class=\"dataframe\">\n",
              "  <thead>\n",
              "    <tr style=\"text-align: right;\">\n",
              "      <th></th>\n",
              "      <th>district</th>\n",
              "      <th>risk_factor</th>\n",
              "      <th>severe</th>\n",
              "      <th>total</th>\n",
              "    </tr>\n",
              "  </thead>\n",
              "  <tbody>\n",
              "    <tr>\n",
              "      <th>0</th>\n",
              "      <td>Birmingham</td>\n",
              "      <td>0.159801</td>\n",
              "      <td>450.0</td>\n",
              "      <td>2816.0</td>\n",
              "    </tr>\n",
              "    <tr>\n",
              "      <th>1</th>\n",
              "      <td>Leeds</td>\n",
              "      <td>0.161954</td>\n",
              "      <td>315.0</td>\n",
              "      <td>1945.0</td>\n",
              "    </tr>\n",
              "    <tr>\n",
              "      <th>2</th>\n",
              "      <td>Cornwall</td>\n",
              "      <td>0.223967</td>\n",
              "      <td>271.0</td>\n",
              "      <td>1210.0</td>\n",
              "    </tr>\n",
              "    <tr>\n",
              "      <th>3</th>\n",
              "      <td>Liverpool</td>\n",
              "      <td>0.220532</td>\n",
              "      <td>232.0</td>\n",
              "      <td>1052.0</td>\n",
              "    </tr>\n",
              "    <tr>\n",
              "      <th>4</th>\n",
              "      <td>Wiltshire</td>\n",
              "      <td>0.193868</td>\n",
              "      <td>215.0</td>\n",
              "      <td>1109.0</td>\n",
              "    </tr>\n",
              "  </tbody>\n",
              "</table>\n",
              "</div>"
            ],
            "text/plain": [
              "     district  risk_factor  severe   total\n",
              "0  Birmingham     0.159801   450.0  2816.0\n",
              "1       Leeds     0.161954   315.0  1945.0\n",
              "2    Cornwall     0.223967   271.0  1210.0\n",
              "3   Liverpool     0.220532   232.0  1052.0\n",
              "4   Wiltshire     0.193868   215.0  1109.0"
            ]
          },
          "metadata": {
            "tags": []
          },
          "execution_count": 5
        }
      ]
    },
    {
      "cell_type": "markdown",
      "metadata": {
        "id": "4Lz-nfW5r_au",
        "colab_type": "text"
      },
      "source": [
        "## Merging of test, accidents and drivers with following feature engeneering on whole data set"
      ]
    },
    {
      "cell_type": "code",
      "metadata": {
        "id": "dsN9ok3crDmQ",
        "colab_type": "code",
        "colab": {}
      },
      "source": [
        "#whole dataset for feature level extraction\n",
        "total=train\n",
        "total = total.append(test)\n",
        "total_entries_train=len(train)"
      ],
      "execution_count": 0,
      "outputs": []
    },
    {
      "cell_type": "code",
      "metadata": {
        "id": "D6cutowAsuoX",
        "colab_type": "code",
        "colab": {}
      },
      "source": [
        "#labelencoder for predetermined cateogirical variables\n",
        "le = LabelEncoder()\n",
        "\n",
        "total[\"pedestrian_crossing-physical_facilities\"]= le.fit_transform(total[\"pedestrian_crossing-physical_facilities\"])\n",
        "total[\"light_conditions\"]= le.fit_transform(total[\"light_conditions\"])\n",
        "total[\"weather_conditions\"] = le.fit_transform(total[\"weather_conditions\"])\n",
        "total[\"road_surface_conditions\"] = le.fit_transform(total[\"road_surface_conditions\"])\n",
        "total[\"pedestrian_crossing-human_control\"] = le.fit_transform(total[\"pedestrian_crossing-human_control\"])\n",
        "total[\"road_type\"] = le.fit_transform(total[\"road_type\"])\n"
      ],
      "execution_count": 0,
      "outputs": []
    },
    {
      "cell_type": "code",
      "metadata": {
        "id": "SDlmefQhsuvq",
        "colab_type": "code",
        "colab": {}
      },
      "source": [
        "pd.options.mode.chained_assignment = None \n",
        "#merging whole dataset with drivers.csv\n",
        "total_merge = total.merge(vehicle_init, on=\"accident_id\", how='outer')\n",
        "accident_id_train=train[\"accident_id\"]\n",
        "accident_id_test=test[\"accident_id\"]"
      ],
      "execution_count": 0,
      "outputs": []
    },
    {
      "cell_type": "code",
      "metadata": {
        "id": "fmbit03tsu12",
        "colab_type": "code",
        "colab": {}
      },
      "source": [
        "#hour and day cyclic encoding\n",
        "total=total_merge\n",
        "total['date'] = pd.to_datetime(total['date'], dayfirst=True)\n",
        "total['weekday'] = total['date'].dt.weekday_name\n",
        "total['month'] = total['date'].dt.month\n",
        "total['day'] = total['date'].dt.day\n",
        "total['time'] = pd.to_datetime(total['time'])\n",
        "total['hour'] = total['time'].dt.hour\n",
        "total['minute'] = total['time'].dt.minute\n",
        "del total['time']\n",
        "del total['date']\n",
        "total['hourfloat']=total.hour+total.minute/60.0\n",
        "total['x_hour']=np.sin(2.*np.pi*total.hourfloat/24.)\n",
        "total['y_hour']=np.cos(2.*np.pi*total.hourfloat/24.)\n",
        "total['x_day']=np.sin(2.*np.pi*total.day/31.)\n",
        "total['y_day']=np.cos(2.*np.pi*total.day/31.)\n",
        "del total['hour']\n",
        "del total['hourfloat']\n",
        "del total['minute']\n",
        "del total['day']\n",
        "#total.head()"
      ],
      "execution_count": 0,
      "outputs": []
    },
    {
      "cell_type": "code",
      "metadata": {
        "id": "86jyqlz7su6z",
        "colab_type": "code",
        "colab": {}
      },
      "source": [
        "#avoiding -1 values and log transformation;needs to be optimized\n",
        "total['Age_of_Driver'][total['Age_of_Driver'] < 0.1] = 1\n",
        "total['Age_of_Vehicle'][total['Age_of_Vehicle'] < 0.1] = 1\n",
        "total['Age_of_Driver'] = np.log(total['Age_of_Driver'])\n",
        "total['Age_of_Vehicle'] = np.log(total['Age_of_Vehicle'])"
      ],
      "execution_count": 0,
      "outputs": []
    },
    {
      "cell_type": "markdown",
      "metadata": {
        "id": "4x3HpIomscpo",
        "colab_type": "text"
      },
      "source": [
        "## one-hot-encoding on whole merged dataset for pre evaluated features"
      ]
    },
    {
      "cell_type": "code",
      "metadata": {
        "id": "nXg3uFVDsvDa",
        "colab_type": "code",
        "outputId": "e0e84cc1-a944-4287-fb47-98365fd2f777",
        "colab": {
          "base_uri": "https://localhost:8080/",
          "height": 102
        }
      },
      "source": [
        "accident_ml_total = total\n",
        "accident_ml_total = accident_ml_total[[\"target\",\"accident_id\",'number_of_casualties','2nd_road_number' ,\"longitude\",\t\"latitude\", 'Age_of_Driver' ,\"speed_limit\",\"local_authority_district\",\"Vehicle_Type\",\"Vehicle_Manoeuvre\",\"Sex_of_Driver\",\"Engine_Capacity_(CC)\",\"weekday\",\"x_hour\",\"y_hour\",\t\"x_day\",\t\"y_day\"]]\n",
        "accident_ml_total[accident_ml_total==np.inf]=np.nan\n",
        "accident_ml_total=accident_ml_total.fillna(0)\n",
        "\n",
        "#one-hot-encode\n",
        "one_hot_columns=[\n",
        "                 \"Vehicle_Manoeuvre\"\n",
        "                 #, \"road_type\"\n",
        "                 #,'weather_conditions'\n",
        "                 ,'speed_limit'\n",
        "                 ,'Vehicle_Type'\n",
        "                 ,\"Sex_of_Driver\"\n",
        "                 ,\"weekday\"\n",
        "                 #,\"urban_or_rural_area\"\n",
        "                ]\n",
        "for column_encode in one_hot_columns:\n",
        "    print(column_encode,\" encoded\")\n",
        "    one_hot = pd.get_dummies(accident_ml_total[column_encode]).add_prefix(column_encode)\n",
        "    accident_ml_total = accident_ml_total.drop(column_encode,axis = 1)\n",
        "    # Join the encoded df\n",
        "    accident_ml_total = accident_ml_total.join(one_hot)"
      ],
      "execution_count": 11,
      "outputs": [
        {
          "output_type": "stream",
          "text": [
            "Vehicle_Manoeuvre  encoded\n",
            "speed_limit  encoded\n",
            "Vehicle_Type  encoded\n",
            "Sex_of_Driver  encoded\n",
            "weekday  encoded\n"
          ],
          "name": "stdout"
        }
      ]
    },
    {
      "cell_type": "markdown",
      "metadata": {
        "id": "t8CtXgq8nZDt",
        "colab_type": "text"
      },
      "source": [
        "# Prepare train set"
      ]
    },
    {
      "cell_type": "code",
      "metadata": {
        "id": "dFZIyVXMwpcb",
        "colab_type": "code",
        "colab": {}
      },
      "source": [
        "accident_ml=accident_ml_total[accident_ml_total.accident_id.isin(accident_id_train)]\n",
        "y=accident_ml_total.target[accident_ml_total.accident_id.isin(accident_id_train)]\n",
        "accident_ml_final=accident_ml\n",
        "#downsample=False\n",
        "del accident_ml_final[\"target\"]\n",
        "del accident_ml_final[\"accident_id\"]\n"
      ],
      "execution_count": 0,
      "outputs": []
    },
    {
      "cell_type": "code",
      "metadata": {
        "id": "8jrPuwXAx03r",
        "colab_type": "code",
        "colab": {}
      },
      "source": [
        "#train eval split\n",
        "X_train, X_test, y_train, y_test = train_test_split(accident_ml_final, y, test_size=0.2, random_state=99)\n",
        "\n",
        "\n",
        "if (downsample==True):\n",
        "  X_train[\"target\"]=y_train\n",
        "  severe = X_train[X_train.target==1]\n",
        "  normal = X_train[X_train.target==0]\n",
        "\n",
        "\n",
        "  from sklearn.utils import resample\n",
        "\n",
        "  normal_downsampled = resample(normal,\n",
        "                                  replace = False, # sample without replacement\n",
        "                                  n_samples = len(severe), # match minority n\n",
        "                                  random_state = 27) # reproducible results\n",
        "\n",
        "  # combine minority and downsampled majority\n",
        "  downsampled = pd.concat([normal_downsampled, severe])\n",
        "\n",
        "  # checking counts\n",
        "  downsampled.target.value_counts()\n",
        "  y=downsampled.target\n",
        "  del downsampled[\"target\"]\n",
        "  #del downsampled[\"accident_id\"]\n",
        "  X_train=downsampled\n",
        "  y_train=y\n",
        "\n",
        "\n",
        "#check for nan or inf values before training\n",
        "X_train[X_train==np.inf]=np.nan\n",
        "X_train=X_train.fillna(0)\n",
        "X_test[X_test==np.inf]=np.nan\n",
        "X_test=X_test.fillna(0)\n",
        "y_train[y_train==np.inf]=np.nan\n",
        "y_train=y_train.fillna(0)"
      ],
      "execution_count": 0,
      "outputs": []
    },
    {
      "cell_type": "markdown",
      "metadata": {
        "id": "O1iE9hWf4Mte",
        "colab_type": "text"
      },
      "source": [
        "# model training with validation set"
      ]
    },
    {
      "cell_type": "code",
      "metadata": {
        "id": "QbDOPA0nvyrr",
        "colab_type": "code",
        "outputId": "501e852a-5563-493f-8e27-38c03ee56580",
        "colab": {
          "base_uri": "https://localhost:8080/",
          "height": 136
        }
      },
      "source": [
        "#predict based on random forest\n",
        "random_forest = RandomForestClassifier(n_estimators=200)\n",
        "random_forest.fit(X_train,y_train)\n"
      ],
      "execution_count": 14,
      "outputs": [
        {
          "output_type": "execute_result",
          "data": {
            "text/plain": [
              "RandomForestClassifier(bootstrap=True, class_weight=None, criterion='gini',\n",
              "                       max_depth=None, max_features='auto', max_leaf_nodes=None,\n",
              "                       min_impurity_decrease=0.0, min_impurity_split=None,\n",
              "                       min_samples_leaf=1, min_samples_split=2,\n",
              "                       min_weight_fraction_leaf=0.0, n_estimators=200,\n",
              "                       n_jobs=None, oob_score=False, random_state=None,\n",
              "                       verbose=0, warm_start=False)"
            ]
          },
          "metadata": {
            "tags": []
          },
          "execution_count": 14
        }
      ]
    },
    {
      "cell_type": "code",
      "metadata": {
        "id": "VWNQDe82eItx",
        "colab_type": "code",
        "colab": {
          "base_uri": "https://localhost:8080/",
          "height": 343
        },
        "outputId": "443560e6-bdf7-4a0b-9a60-99ba200b1d9b"
      },
      "source": [
        "\n",
        "x_result_train=X_test\n",
        "Y_pred = random_forest.predict(X_test)\n",
        "random_forest.score(X_test, y_test)\n",
        "acc_random_forest1 = round(random_forest.score(X_test, y_test) * 100, 2)\n",
        "\n",
        "sk_report = classification_report(\n",
        "    digits=6,\n",
        "    y_true=y_test, \n",
        "    y_pred=Y_pred)\n",
        "print(\"Accuracy\" , acc_random_forest1)\n",
        "print(sk_report)\n",
        "pd.crosstab(y_test, Y_pred, rownames=['Actual'], colnames=['Predicted'], margins=True)"
      ],
      "execution_count": 15,
      "outputs": [
        {
          "output_type": "stream",
          "text": [
            "Accuracy 85.53\n",
            "              precision    recall  f1-score   support\n",
            "\n",
            "         0.0   0.855798  0.995407  0.920338     43106\n",
            "         1.0   0.835411  0.122040  0.212969      8235\n",
            "\n",
            "    accuracy                       0.855320     51341\n",
            "   macro avg   0.845605  0.558723  0.566653     51341\n",
            "weighted avg   0.852528  0.855320  0.806877     51341\n",
            "\n"
          ],
          "name": "stdout"
        },
        {
          "output_type": "execute_result",
          "data": {
            "text/html": [
              "<div>\n",
              "<style scoped>\n",
              "    .dataframe tbody tr th:only-of-type {\n",
              "        vertical-align: middle;\n",
              "    }\n",
              "\n",
              "    .dataframe tbody tr th {\n",
              "        vertical-align: top;\n",
              "    }\n",
              "\n",
              "    .dataframe thead th {\n",
              "        text-align: right;\n",
              "    }\n",
              "</style>\n",
              "<table border=\"1\" class=\"dataframe\">\n",
              "  <thead>\n",
              "    <tr style=\"text-align: right;\">\n",
              "      <th>Predicted</th>\n",
              "      <th>0.0</th>\n",
              "      <th>1.0</th>\n",
              "      <th>All</th>\n",
              "    </tr>\n",
              "    <tr>\n",
              "      <th>Actual</th>\n",
              "      <th></th>\n",
              "      <th></th>\n",
              "      <th></th>\n",
              "    </tr>\n",
              "  </thead>\n",
              "  <tbody>\n",
              "    <tr>\n",
              "      <th>0.0</th>\n",
              "      <td>42908</td>\n",
              "      <td>198</td>\n",
              "      <td>43106</td>\n",
              "    </tr>\n",
              "    <tr>\n",
              "      <th>1.0</th>\n",
              "      <td>7230</td>\n",
              "      <td>1005</td>\n",
              "      <td>8235</td>\n",
              "    </tr>\n",
              "    <tr>\n",
              "      <th>All</th>\n",
              "      <td>50138</td>\n",
              "      <td>1203</td>\n",
              "      <td>51341</td>\n",
              "    </tr>\n",
              "  </tbody>\n",
              "</table>\n",
              "</div>"
            ],
            "text/plain": [
              "Predicted    0.0   1.0    All\n",
              "Actual                       \n",
              "0.0        42908   198  43106\n",
              "1.0         7230  1005   8235\n",
              "All        50138  1203  51341"
            ]
          },
          "metadata": {
            "tags": []
          },
          "execution_count": 15
        }
      ]
    },
    {
      "cell_type": "markdown",
      "metadata": {
        "id": "KxWBpyHVqWzX",
        "colab_type": "text"
      },
      "source": [
        "## Note: Next training takes a while for the grid search in case the data is not downsampled"
      ]
    },
    {
      "cell_type": "code",
      "metadata": {
        "id": "8DNXmp7J3l5y",
        "colab_type": "code",
        "outputId": "9bb8e60b-dedb-4e38-8cfd-09423fc3230c",
        "colab": {
          "base_uri": "https://localhost:8080/",
          "height": 581
        }
      },
      "source": [
        "random_forest.get_params()\n",
        "param_grid = {\n",
        "    'bootstrap': [True],\n",
        "    'max_depth': [80, 90, 100],\n",
        "    'max_features': [4, 5],\n",
        "    'min_samples_leaf': [5, 10],\n",
        "    'min_samples_split': [8, 10],\n",
        "    'n_estimators': [100, 200]\n",
        "}\n",
        "# Create a based model\n",
        "random_f = RandomForestClassifier()\n",
        "# Instantiate the grid search model\n",
        "grid_search = RandomizedSearchCV(estimator = random_f, param_distributions = param_grid, cv = 3, n_jobs = -1, verbose = 2)\n",
        "\n",
        "grid_search.fit(X_train,y_train)"
      ],
      "execution_count": 16,
      "outputs": [
        {
          "output_type": "stream",
          "text": [
            "Fitting 3 folds for each of 10 candidates, totalling 30 fits\n"
          ],
          "name": "stdout"
        },
        {
          "output_type": "stream",
          "text": [
            "[Parallel(n_jobs=-1)]: Using backend LokyBackend with 2 concurrent workers.\n",
            "/usr/local/lib/python3.6/dist-packages/joblib/externals/loky/process_executor.py:706: UserWarning: A worker stopped while some jobs were given to the executor. This can be caused by a too short worker timeout or by a memory leak.\n",
            "  \"timeout or by a memory leak.\", UserWarning\n",
            "[Parallel(n_jobs=-1)]: Done  30 out of  30 | elapsed: 15.9min finished\n"
          ],
          "name": "stderr"
        },
        {
          "output_type": "execute_result",
          "data": {
            "text/plain": [
              "RandomizedSearchCV(cv=3, error_score='raise-deprecating',\n",
              "                   estimator=RandomForestClassifier(bootstrap=True,\n",
              "                                                    class_weight=None,\n",
              "                                                    criterion='gini',\n",
              "                                                    max_depth=None,\n",
              "                                                    max_features='auto',\n",
              "                                                    max_leaf_nodes=None,\n",
              "                                                    min_impurity_decrease=0.0,\n",
              "                                                    min_impurity_split=None,\n",
              "                                                    min_samples_leaf=1,\n",
              "                                                    min_samples_split=2,\n",
              "                                                    min_weight_fraction_leaf=0.0,\n",
              "                                                    n_estimators='warn',\n",
              "                                                    n_jobs=None,\n",
              "                                                    oob_score=False,\n",
              "                                                    random_state=None,\n",
              "                                                    verbose=0,\n",
              "                                                    warm_start=False),\n",
              "                   iid='warn', n_iter=10, n_jobs=-1,\n",
              "                   param_distributions={'bootstrap': [True],\n",
              "                                        'max_depth': [80, 90, 100],\n",
              "                                        'max_features': [4, 5],\n",
              "                                        'min_samples_leaf': [5, 10],\n",
              "                                        'min_samples_split': [8, 10],\n",
              "                                        'n_estimators': [100, 200]},\n",
              "                   pre_dispatch='2*n_jobs', random_state=None, refit=True,\n",
              "                   return_train_score=False, scoring=None, verbose=2)"
            ]
          },
          "metadata": {
            "tags": []
          },
          "execution_count": 16
        }
      ]
    },
    {
      "cell_type": "code",
      "metadata": {
        "id": "k4qaeXRx4Ifv",
        "colab_type": "code",
        "outputId": "f24bb9f2-a376-4a73-a237-f4b7da4a1b42",
        "colab": {
          "base_uri": "https://localhost:8080/",
          "height": 395
        }
      },
      "source": [
        "plt.figure(figsize=(12,6))\n",
        "feat_importances = pd.Series(random_forest.feature_importances_, index=accident_ml_final.columns)\n",
        "feat_importances.nlargest(25).plot(kind='barh')"
      ],
      "execution_count": 17,
      "outputs": [
        {
          "output_type": "execute_result",
          "data": {
            "text/plain": [
              "<matplotlib.axes._subplots.AxesSubplot at 0x7f6afe133860>"
            ]
          },
          "metadata": {
            "tags": []
          },
          "execution_count": 17
        },
        {
          "output_type": "display_data",
          "data": {
            "image/png": "[encoded data removed]",
            "text/plain": [
              "<Figure size 864x432 with 1 Axes>"
            ]
          },
          "metadata": {
            "tags": []
          }
        }
      ]
    },
    {
      "cell_type": "code",
      "metadata": {
        "id": "vmq5sf_b4KK_",
        "colab_type": "code",
        "colab": {}
      },
      "source": [
        "#gradient boost\n",
        "#from xgboost import XGBClassifier\n",
        "#model = XGBClassifier()\n",
        "#model.fit(X_train, y_train)\n",
        "\n",
        "# make predictions for test data\n",
        "#y_pred = model.predict(X_test)\n",
        "#predictions = [round(value) for value in y_pred]\n",
        "#accuracy = accuracy_score(y_test, predictions)\n",
        "#print(\"Accuracy: %.2f%%\" % (accuracy * 100.0))"
      ],
      "execution_count": 0,
      "outputs": []
    },
    {
      "cell_type": "markdown",
      "metadata": {
        "id": "wRdui5aU4CGj",
        "colab_type": "text"
      },
      "source": [
        "# Test prediciton"
      ]
    },
    {
      "cell_type": "code",
      "metadata": {
        "id": "kWDLWicQsvLU",
        "colab_type": "code",
        "colab": {}
      },
      "source": [
        "test_1=accident_ml_total[accident_ml_total.accident_id.isin(accident_id_test)].copy()\n",
        "test_1[test_1==np.inf]=np.nan\n",
        "test_1=test_1.fillna(0)\n",
        "#back to train and test set\n",
        "del test_1[\"target\"]\n",
        "test_1_backup=test_1.copy()\n",
        "del test_1_backup[\"accident_id\"]\n",
        "y_pred_submit_rf =grid_search.predict(test_1_backup)\n",
        "Y_pred = random_forest.predict(test_1_backup)\n",
        "\n",
        "\n",
        "#y_pred_submit_xgb = model.predict(test_1_backup)\n"
      ],
      "execution_count": 0,
      "outputs": []
    },
    {
      "cell_type": "markdown",
      "metadata": {
        "id": "undPPMdZwcxE",
        "colab_type": "text"
      },
      "source": [
        "# groupby account_id and sum over y_pred"
      ]
    },
    {
      "cell_type": "code",
      "metadata": {
        "id": "ZDkeazXLSr4x",
        "colab_type": "code",
        "colab": {}
      },
      "source": [
        "test_1_result=test_1.copy()\n",
        "\n",
        "test_1_result[\"y_pred\"]=-1\n",
        "array = np.array(Y_pred)\n",
        "test_1_result[\"y_pred\"]=array\n",
        "test_1_result = test_1_result.groupby(test_1_result.accident_id, as_index=False).agg({'accident_id': 'first',\n",
        "                                #'Transaction': 'first',\n",
        "                                'y_pred':sum})"
      ],
      "execution_count": 0,
      "outputs": []
    },
    {
      "cell_type": "markdown",
      "metadata": {
        "id": "CANiOr32qtIT",
        "colab_type": "text"
      },
      "source": [
        "# Note: The following process takes some time. A mapping was not possible with my RAM, so I had to make it a bit more computational complex"
      ]
    },
    {
      "cell_type": "code",
      "metadata": {
        "id": "J13cI79E7smE",
        "colab_type": "code",
        "colab": {}
      },
      "source": [
        "test_eval=test.copy()\n",
        "test_eval[\"y_pred\"]=-1\n",
        "test_eval = test_eval[['accident_id','y_pred']]\n",
        "\n",
        "for index, row in test_1_result.iterrows():\n",
        "    #print(int(row['accident_id']), int(row['y_pred']))\n",
        "    test_eval.y_pred.loc[test_eval['accident_id']==int(row['accident_id'])] =int(row['y_pred'])\n"
      ],
      "execution_count": 0,
      "outputs": []
    },
    {
      "cell_type": "code",
      "metadata": {
        "id": "nqFu6tZzIQvV",
        "colab_type": "code",
        "colab": {}
      },
      "source": [
        "#set classified target to 1 in case a severity was predicted inside the 1:n\n",
        "test_eval2=test_eval.copy()\n",
        "test_eval2.loc[test_eval2['y_pred'] > 0.9, 'y_pred'] = 1"
      ],
      "execution_count": 0,
      "outputs": []
    },
    {
      "cell_type": "code",
      "metadata": {
        "id": "g0ks7FEuIgYZ",
        "colab_type": "code",
        "outputId": "5003c26b-ad17-4fb2-b1e9-9024f91b9fdf",
        "colab": {
          "base_uri": "https://localhost:8080/",
          "height": 170
        }
      },
      "source": [
        "test_eval2.y_pred.describe()"
      ],
      "execution_count": 23,
      "outputs": [
        {
          "output_type": "execute_result",
          "data": {
            "text/plain": [
              "count    129950.000000\n",
              "mean          0.019177\n",
              "std           0.137146\n",
              "min           0.000000\n",
              "25%           0.000000\n",
              "50%           0.000000\n",
              "75%           0.000000\n",
              "max           1.000000\n",
              "Name: y_pred, dtype: float64"
            ]
          },
          "metadata": {
            "tags": []
          },
          "execution_count": 23
        }
      ]
    },
    {
      "cell_type": "code",
      "metadata": {
        "id": "lqhY7r56zm1e",
        "colab_type": "code",
        "outputId": "a25fbc69-5ad6-4675-966a-f4bab348f709",
        "colab": {
          "base_uri": "https://localhost:8080/",
          "height": 1000
        }
      },
      "source": [
        "print(test_eval2[\"y_pred\"])"
      ],
      "execution_count": 24,
      "outputs": [
        {
          "output_type": "stream",
          "text": [
            "0         0\n",
            "1         0\n",
            "2         0\n",
            "3         0\n",
            "4         0\n",
            "5         0\n",
            "6         0\n",
            "7         0\n",
            "8         0\n",
            "9         0\n",
            "10        0\n",
            "11        0\n",
            "12        0\n",
            "13        0\n",
            "14        0\n",
            "15        0\n",
            "16        0\n",
            "17        0\n",
            "18        0\n",
            "19        0\n",
            "20        0\n",
            "21        0\n",
            "22        0\n",
            "23        0\n",
            "24        0\n",
            "25        0\n",
            "26        0\n",
            "27        0\n",
            "28        0\n",
            "29        0\n",
            "         ..\n",
            "129920    0\n",
            "129921    0\n",
            "129922    0\n",
            "129923    1\n",
            "129924    0\n",
            "129925    0\n",
            "129926    0\n",
            "129927    0\n",
            "129928    0\n",
            "129929    0\n",
            "129930    0\n",
            "129931    0\n",
            "129932    0\n",
            "129933    0\n",
            "129934    0\n",
            "129935    0\n",
            "129936    0\n",
            "129937    0\n",
            "129938    0\n",
            "129939    0\n",
            "129940    0\n",
            "129941    0\n",
            "129942    0\n",
            "129943    0\n",
            "129944    0\n",
            "129945    0\n",
            "129946    0\n",
            "129947    0\n",
            "129948    0\n",
            "129949    0\n",
            "Name: y_pred, Length: 129950, dtype: int64\n"
          ],
          "name": "stdout"
        }
      ]
    },
    {
      "cell_type": "code",
      "metadata": {
        "id": "TGr-82ZBHiar",
        "colab_type": "code",
        "outputId": "9519ced7-aa0a-42ae-e7bd-bb9d71c18fe8",
        "colab": {
          "base_uri": "https://localhost:8080/",
          "height": 231
        }
      },
      "source": [
        "#save to drive\n",
        "if(load_local==False):\n",
        "  drive.mount('drive')\n",
        "  test_eval2[\"y_pred\"].to_csv('submission_tuned_sampled.csv', index=False)\n",
        "  !cp submission_tuned_sampled.csv drive/My\\ Drive/\n",
        "  test_eval2.to_csv('submission_tuned_sampled_full.csv', index=False)\n",
        "  !cp submission_tuned_sampled_full.csv drive/My\\ Drive/"
      ],
      "execution_count": 25,
      "outputs": [
        {
          "output_type": "error",
          "ename": "AttributeError",
          "evalue": "ignored",
          "traceback": [
            "\u001b[0;31m---------------------------------------------------------------------------\u001b[0m",
            "\u001b[0;31mAttributeError\u001b[0m                            Traceback (most recent call last)",
            "\u001b[0;32m<ipython-input-25-79290a89aec5>\u001b[0m in \u001b[0;36m<module>\u001b[0;34m()\u001b[0m\n\u001b[1;32m      1\u001b[0m \u001b[0;32mif\u001b[0m\u001b[0;34m(\u001b[0m\u001b[0mload_local\u001b[0m\u001b[0;34m==\u001b[0m\u001b[0;32mFalse\u001b[0m\u001b[0;34m)\u001b[0m\u001b[0;34m:\u001b[0m\u001b[0;34m\u001b[0m\u001b[0;34m\u001b[0m\u001b[0m\n\u001b[0;32m----> 2\u001b[0;31m   \u001b[0mdrive\u001b[0m\u001b[0;34m.\u001b[0m\u001b[0mmount\u001b[0m\u001b[0;34m(\u001b[0m\u001b[0;34m'drive'\u001b[0m\u001b[0;34m)\u001b[0m\u001b[0;34m\u001b[0m\u001b[0;34m\u001b[0m\u001b[0m\n\u001b[0m\u001b[1;32m      3\u001b[0m   \u001b[0mtest_eval2\u001b[0m\u001b[0;34m[\u001b[0m\u001b[0;34m\"y_pred\"\u001b[0m\u001b[0;34m]\u001b[0m\u001b[0;34m.\u001b[0m\u001b[0mto_csv\u001b[0m\u001b[0;34m(\u001b[0m\u001b[0;34m'submission_tuned_sampled.csv'\u001b[0m\u001b[0;34m,\u001b[0m \u001b[0mindex\u001b[0m\u001b[0;34m=\u001b[0m\u001b[0;32mFalse\u001b[0m\u001b[0;34m)\u001b[0m\u001b[0;34m\u001b[0m\u001b[0;34m\u001b[0m\u001b[0m\n\u001b[1;32m      4\u001b[0m   \u001b[0mget_ipython\u001b[0m\u001b[0;34m(\u001b[0m\u001b[0;34m)\u001b[0m\u001b[0;34m.\u001b[0m\u001b[0msystem\u001b[0m\u001b[0;34m(\u001b[0m\u001b[0;34m'cp submission_tuned_sampled.csv drive/My\\\\ Drive/'\u001b[0m\u001b[0;34m)\u001b[0m\u001b[0;34m\u001b[0m\u001b[0;34m\u001b[0m\u001b[0m\n\u001b[1;32m      5\u001b[0m   \u001b[0mtest_eval2\u001b[0m\u001b[0;34m.\u001b[0m\u001b[0mto_csv\u001b[0m\u001b[0;34m(\u001b[0m\u001b[0;34m'submission_tuned_sampled_full.csv'\u001b[0m\u001b[0;34m,\u001b[0m \u001b[0mindex\u001b[0m\u001b[0;34m=\u001b[0m\u001b[0;32mFalse\u001b[0m\u001b[0;34m)\u001b[0m\u001b[0;34m\u001b[0m\u001b[0;34m\u001b[0m\u001b[0m\n",
            "\u001b[0;31mAttributeError\u001b[0m: 'GoogleDrive' object has no attribute 'mount'"
          ]
        }
      ]
    },
    {
      "cell_type": "code",
      "metadata": {
        "id": "xSlsyh7l7sgX",
        "colab_type": "code",
        "colab": {}
      },
      "source": [
        ""
      ],
      "execution_count": 0,
      "outputs": []
    },
    {
      "cell_type": "code",
      "metadata": {
        "id": "qTh7BnJe7sdw",
        "colab_type": "code",
        "colab": {}
      },
      "source": [
        ""
      ],
      "execution_count": 0,
      "outputs": []
    },
    {
      "cell_type": "code",
      "metadata": {
        "id": "O0mYxOB3KYnc",
        "colab_type": "code",
        "colab": {}
      },
      "source": [
        ""
      ],
      "execution_count": 0,
      "outputs": []
    }
  ]
}